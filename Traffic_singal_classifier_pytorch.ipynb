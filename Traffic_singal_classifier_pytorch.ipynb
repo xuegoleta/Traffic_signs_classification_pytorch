{
 "cells": [
  {
   "cell_type": "code",
   "execution_count": 1,
   "metadata": {},
   "outputs": [],
   "source": [
    "import torch\n",
    "import numpy as np\n",
    "import os\n",
    "import cv2\n",
    "from tqdm import tqdm"
   ]
  },
  {
   "cell_type": "code",
   "execution_count": 9,
   "metadata": {},
   "outputs": [
    {
     "name": "stderr",
     "output_type": "stream",
     "text": [
      "100%|██████████████████████████████████████████████████████████████████████████████| 210/210 [00:00<00:00, 1343.08it/s]\n",
      "100%|████████████████████████████████████████████████████████████████████████████| 2220/2220 [00:01<00:00, 1367.38it/s]\n",
      "100%|████████████████████████████████████████████████████████████████████████████| 2250/2250 [00:01<00:00, 1392.35it/s]\n",
      "100%|████████████████████████████████████████████████████████████████████████████| 1410/1410 [00:00<00:00, 1757.13it/s]\n",
      "100%|████████████████████████████████████████████████████████████████████████████| 1980/1980 [00:01<00:00, 1504.40it/s]\n",
      "100%|████████████████████████████████████████████████████████████████████████████| 1860/1860 [00:01<00:00, 1497.37it/s]\n",
      "100%|██████████████████████████████████████████████████████████████████████████████| 420/420 [00:00<00:00, 1552.97it/s]\n",
      "100%|████████████████████████████████████████████████████████████████████████████| 1440/1440 [00:00<00:00, 1501.84it/s]\n",
      "100%|████████████████████████████████████████████████████████████████████████████| 1410/1410 [00:00<00:00, 1892.61it/s]\n",
      "100%|████████████████████████████████████████████████████████████████████████████| 1470/1470 [00:01<00:00, 1431.47it/s]\n",
      "100%|████████████████████████████████████████████████████████████████████████████| 2010/2010 [00:01<00:00, 1594.99it/s]\n",
      "100%|████████████████████████████████████████████████████████████████████████████| 1320/1320 [00:00<00:00, 1375.68it/s]\n",
      "100%|████████████████████████████████████████████████████████████████████████████| 2100/2100 [00:01<00:00, 1409.90it/s]\n",
      "100%|████████████████████████████████████████████████████████████████████████████| 2160/2160 [00:01<00:00, 1425.88it/s]\n",
      "100%|██████████████████████████████████████████████████████████████████████████████| 780/780 [00:00<00:00, 1102.49it/s]\n",
      "100%|██████████████████████████████████████████████████████████████████████████████| 630/630 [00:00<00:00, 1698.37it/s]\n",
      "100%|██████████████████████████████████████████████████████████████████████████████| 420/420 [00:00<00:00, 1171.98it/s]\n",
      "100%|████████████████████████████████████████████████████████████████████████████| 1110/1110 [00:00<00:00, 1570.46it/s]\n",
      "100%|████████████████████████████████████████████████████████████████████████████| 1200/1200 [00:01<00:00, 1080.72it/s]\n",
      "100%|███████████████████████████████████████████████████████████████████████████████| 210/210 [00:00<00:00, 994.26it/s]\n",
      "100%|██████████████████████████████████████████████████████████████████████████████| 360/360 [00:00<00:00, 1646.29it/s]\n",
      "100%|██████████████████████████████████████████████████████████████████████████████| 330/330 [00:00<00:00, 1077.34it/s]\n",
      "100%|██████████████████████████████████████████████████████████████████████████████| 390/390 [00:00<00:00, 1151.85it/s]\n",
      "100%|██████████████████████████████████████████████████████████████████████████████| 510/510 [00:00<00:00, 1162.56it/s]\n",
      "100%|██████████████████████████████████████████████████████████████████████████████| 270/270 [00:00<00:00, 1388.93it/s]\n",
      "100%|████████████████████████████████████████████████████████████████████████████| 1500/1500 [00:01<00:00, 1265.63it/s]\n",
      "100%|██████████████████████████████████████████████████████████████████████████████| 600/600 [00:00<00:00, 1318.36it/s]\n",
      "100%|███████████████████████████████████████████████████████████████████████████████| 240/240 [00:00<00:00, 843.07it/s]\n",
      "100%|███████████████████████████████████████████████████████████████████████████████| 540/540 [00:00<00:00, 945.73it/s]\n",
      "100%|██████████████████████████████████████████████████████████████████████████████| 270/270 [00:00<00:00, 1434.13it/s]\n",
      "100%|██████████████████████████████████████████████████████████████████████████████| 450/450 [00:00<00:00, 1211.73it/s]\n",
      "100%|██████████████████████████████████████████████████████████████████████████████| 780/780 [00:00<00:00, 1800.69it/s]\n",
      "100%|██████████████████████████████████████████████████████████████████████████████| 240/240 [00:00<00:00, 1648.82it/s]\n",
      "100%|██████████████████████████████████████████████████████████████████████████████| 689/689 [00:00<00:00, 1553.61it/s]\n",
      "100%|██████████████████████████████████████████████████████████████████████████████| 420/420 [00:00<00:00, 1571.98it/s]\n",
      "100%|████████████████████████████████████████████████████████████████████████████| 1200/1200 [00:00<00:00, 1441.79it/s]\n",
      "100%|██████████████████████████████████████████████████████████████████████████████| 390/390 [00:00<00:00, 1688.87it/s]\n",
      "100%|██████████████████████████████████████████████████████████████████████████████| 210/210 [00:00<00:00, 1146.82it/s]\n",
      "100%|████████████████████████████████████████████████████████████████████████████| 2070/2070 [00:01<00:00, 1428.86it/s]\n",
      "100%|██████████████████████████████████████████████████████████████████████████████| 300/300 [00:00<00:00, 1269.41it/s]\n",
      "100%|███████████████████████████████████████████████████████████████████████████████| 360/360 [00:00<00:00, 994.86it/s]\n",
      "100%|██████████████████████████████████████████████████████████████████████████████| 240/240 [00:00<00:00, 1159.84it/s]\n",
      "100%|██████████████████████████████████████████████████████████████████████████████| 240/240 [00:00<00:00, 1467.45it/s]\n"
     ]
    }
   ],
   "source": [
    "# images data prepare, all images and labels saved inside images_data.npy \n",
    "class traffic_signal_image():\n",
    "    IMAGE_SIZE = 28\n",
    "    data = []\n",
    "    images_path = os.getcwd() + '\\\\' + 'Train'\n",
    "    classes = 43\n",
    "    \n",
    "    def image_prepare(self):\n",
    "        for i in range(self.classes):\n",
    "            path = os.path.join(self.images_path,str(i))\n",
    "            for image in tqdm(os.listdir(path)):\n",
    "                if 'png' in image:\n",
    "                    try :\n",
    "                        img_path = os.path.join(path + '/',image) \n",
    "                        img = cv2.imread(img_path)\n",
    "                        img = cv2.resize(img,(self.IMAGE_SIZE,self.IMAGE_SIZE))\n",
    "                        img = np.array(img)      # shape (28, 28, 3)\n",
    "                        self.data.append([img,i])\n",
    "                    except:\n",
    "                        print(\"Can not open an image\")\n",
    "        self.data = np.array(self.data)\n",
    "        np.random.shuffle(self.data)\n",
    "        np.save(\"images_data.npy\",self.data)\n",
    "        #print(self.data.shape)      #shape (39209, 2)\n",
    "        \n",
    "traffic_signal_image = traffic_signal_image()\n",
    "traffic_signal_image.image_prepare()\n",
    "\n",
    "\n"
   ]
  },
  {
   "cell_type": "code",
   "execution_count": 10,
   "metadata": {},
   "outputs": [
    {
     "name": "stdout",
     "output_type": "stream",
     "text": [
      "Net(\n",
      "  (conv1): Conv2d(3, 32, kernel_size=(3, 3), stride=(1, 1))\n",
      "  (conv2): Conv2d(32, 64, kernel_size=(3, 3), stride=(1, 1))\n",
      "  (fc1): Linear(in_features=1600, out_features=128, bias=True)\n",
      "  (fc2): Linear(in_features=128, out_features=43, bias=True)\n",
      ")\n"
     ]
    }
   ],
   "source": [
    "# nn model define\n",
    "import torch.nn as nn\n",
    "import torch.nn.functional as F\n",
    "\n",
    "class Net(nn.Module):\n",
    "    def __init__(self):\n",
    "        super().__init__()\n",
    "        self.conv1 = nn.Conv2d(3,32,3)\n",
    "        self.conv2 = nn.Conv2d(32,64,3)\n",
    "        self.fc1 = nn.Linear(1600,128)\n",
    "        self.fc2 = nn.Linear(128,43)\n",
    "        \n",
    "    def forward(self,x):\n",
    "        \n",
    "        x = self.conv1(x)\n",
    "        x = F.max_pool2d(F.relu(x),(2,2))\n",
    "        x = self.conv2(x)\n",
    "        x = F.max_pool2d(F.relu(x),(2,2))\n",
    "        #print(x.shape)\n",
    "        x = x.view(-1,1600)\n",
    "        x = F.relu(self.fc1(x))\n",
    "        x = self.fc2(x)\n",
    "        \n",
    "        return x                 # CrossEntropyloss doesn't use the softmax()\n",
    "    \n",
    "net = Net()\n",
    "print(net)"
   ]
  },
  {
   "cell_type": "code",
   "execution_count": 4,
   "metadata": {},
   "outputs": [],
   "source": [
    "# divided train/test images 9:1\n",
    "\n",
    "traindata = np.load(\"images_data.npy\",allow_pickle=True)\n",
    "\n",
    "X = torch.tensor([i[0] for i in traindata],dtype=torch.float32).view(-1,3,28,28)\n",
    "X = X/255\n",
    "y = torch.tensor([i[1] for i in traindata],dtype=torch.long)\n",
    "\n",
    "TEST_PCT = 0.1\n",
    "TEST_SIZE = int(TEST_PCT * (len(X)))\n",
    "\n",
    "train_X = X[:-TEST_SIZE]\n",
    "train_y = y[:-TEST_SIZE]\n",
    "\n",
    "test_X = X[-TEST_SIZE:]\n",
    "test_y = y[-TEST_SIZE:]"
   ]
  },
  {
   "cell_type": "code",
   "execution_count": 5,
   "metadata": {},
   "outputs": [],
   "source": [
    "# train and save accuracy/loss along the trainning process\n",
    "def train_check_accuracy(X,y,train=False):\n",
    "    if train:\n",
    "        net.zero_grad()\n",
    "    output = net(X)\n",
    "    matches = [torch.argmax(output[i]) == y[i] for i in range(len(output))]\n",
    "    correct = matches.count(True)\n",
    "    total = len(matches)\n",
    "    accuracy = 100*correct/total\n",
    "    loss = loss_function(output,y)\n",
    "    \n",
    "    if train:\n",
    "        loss.backward()\n",
    "        optimizer.step()\n",
    "\n",
    "    return accuracy,loss\n",
    "\n",
    "def validation_accuracy(size=50):\n",
    "    X,y = test_X[:size],test_y[:size]\n",
    "    val_acc,val_loss = train_check_accuracy(X,y,train=False)\n",
    "    return val_acc,val_loss\n"
   ]
  },
  {
   "cell_type": "code",
   "execution_count": 6,
   "metadata": {},
   "outputs": [
    {
     "name": "stdout",
     "output_type": "stream",
     "text": [
      "model_1607811970\n"
     ]
    }
   ],
   "source": [
    "# distinguish the saving information by time as model name\n",
    "import time\n",
    "model_name = f\"model_{int(time.time())}\"\n",
    "print(model_name)"
   ]
  },
  {
   "cell_type": "code",
   "execution_count": 8,
   "metadata": {},
   "outputs": [
    {
     "name": "stderr",
     "output_type": "stream",
     "text": [
      "100%|█████████████████████████████████████████████████████████████████████████████████████████████████████████████████████████████████████████████████████████████████████████| 1103/1103 [00:41<00:00, 26.44it/s]\n",
      "100%|█████████████████████████████████████████████████████████████████████████████████████████████████████████████████████████████████████████████████████████████████████████| 1103/1103 [00:44<00:00, 25.02it/s]\n",
      "100%|█████████████████████████████████████████████████████████████████████████████████████████████████████████████████████████████████████████████████████████████████████████| 1103/1103 [00:44<00:00, 24.95it/s]\n",
      "100%|█████████████████████████████████████████████████████████████████████████████████████████████████████████████████████████████████████████████████████████████████████████| 1103/1103 [00:45<00:00, 24.22it/s]\n",
      "100%|█████████████████████████████████████████████████████████████████████████████████████████████████████████████████████████████████████████████████████████████████████████| 1103/1103 [00:44<00:00, 24.91it/s]\n"
     ]
    }
   ],
   "source": [
    "# train and save acc/loss in train_model.log\n",
    "import torch.optim as optim\n",
    "net = Net()\n",
    "optimizer  = optim.Adam(net.parameters(), lr = 0.001 )   # sometimes if the loss is not changed over trainning, reduced the lr to try it\n",
    "loss_function = nn.CrossEntropyLoss()\n",
    "\n",
    "def train_vis(net):\n",
    "    batch_size = 32\n",
    "    epochs = 5\n",
    "    with open(\"train_model.log\",\"a\") as f:\n",
    "        for epoch in range(epochs):\n",
    "            for i in tqdm(range(0,len(train_X),batch_size)):\n",
    "                batch_X = train_X[i:i+batch_size].view(-1,3,28,28)\n",
    "                batch_y = train_y[i:i+batch_size]\n",
    "                acc,loss = train_check_accuracy(batch_X,batch_y,train=True) \n",
    "                \n",
    "                if i%10 == 0:\n",
    "                    val_acc,val_loss = validation_accuracy(size=100)\n",
    "                    f.write(f\"{model_name},{round(time.time(),3)},{round(float(acc),2)},{round(float(loss),4)},{round(float(val_acc),2)},{round(float(val_loss),4)}\\n\")                    \n",
    "\n",
    "train_vis(net)               "
   ]
  },
  {
   "cell_type": "code",
   "execution_count": 9,
   "metadata": {},
   "outputs": [
    {
     "data": {
      "image/png": "[encoded data removed]",
      "text/plain": [
       "<Figure size 432x288 with 2 Axes>"
      ]
     },
     "metadata": {},
     "output_type": "display_data"
    }
   ],
   "source": [
    "# visualization accuracy/loss in the trainning procss in train_model.log\n",
    "# which can see that the accuracy is about 90% in the test data.\n",
    "from matplotlib import pyplot as plt\n",
    "\n",
    "plt.style.use(\"ggplot\")\n",
    "\n",
    "# the model_name above\n",
    "model_name = \"model_1607811970\"\n",
    "\n",
    "def acc_loss_visualization(model_name):\n",
    "    contents = open('train_model.log','r').read().split('\\n')\n",
    "    \n",
    "    times = []\n",
    "    accuracies = []\n",
    "    losses = []\n",
    "    val_accs = []\n",
    "    val_losses = []\n",
    "    \n",
    "    for line in contents:\n",
    "        if model_name in line:\n",
    "            name,timepoint,accuracy,loss,val_acc,val_loss = line.split(',')\n",
    "            \n",
    "            times.append(float(timepoint))\n",
    "            accuracies.append(float(accuracy))\n",
    "            losses.append(float(loss))\n",
    "            val_accs.append(float(val_acc))\n",
    "            val_losses.append(float(val_loss))\n",
    "            \n",
    "    fig = plt.figure()\n",
    "    \n",
    "    ax1 = plt.subplot2grid((2,1), (0,0))\n",
    "    ax2 = plt.subplot2grid((2,1), (1,0), sharex=ax1)\n",
    "    \n",
    "    ax1.plot(times,accuracies,label='Accuracy')\n",
    "    ax1.plot(times,val_accs,label='Val_Accuracy')\n",
    "    ax1.legend(loc=2)\n",
    "    ax2.plot(times,losses,label='loss')\n",
    "    ax2.plot(times,val_losses,label='val_loss')\n",
    "    ax2.legend(loc=2)\n",
    "    plt.show()\n",
    "\n",
    "acc_loss_visualization(model_name)"
   ]
  },
  {
   "cell_type": "code",
   "execution_count": null,
   "metadata": {},
   "outputs": [],
   "source": []
  }
 ],
 "metadata": {
  "kernelspec": {
   "display_name": "Python 3",
   "language": "python",
   "name": "python3"
  },
  "language_info": {
   "codemirror_mode": {
    "name": "ipython",
    "version": 3
   },
   "file_extension": ".py",
   "mimetype": "text/x-python",
   "name": "python",
   "nbconvert_exporter": "python",
   "pygments_lexer": "ipython3",
   "version": "3.8.3"
  }
 },
 "nbformat": 4,
 "nbformat_minor": 4
}
